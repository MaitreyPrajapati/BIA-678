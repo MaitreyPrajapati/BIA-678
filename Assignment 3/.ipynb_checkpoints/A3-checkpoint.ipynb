{
 "cells": [
  {
   "cell_type": "code",
   "execution_count": 224,
   "metadata": {},
   "outputs": [],
   "source": [
    "from pyspark import SparkContext\n",
    "from pyspark.sql import SQLContext\n",
    "from pyspark.sql.types import IntegerType,FloatType"
   ]
  },
  {
   "cell_type": "code",
   "execution_count": 337,
   "metadata": {},
   "outputs": [],
   "source": [
    "def calculate_total(row_dict):\n",
    "    tmp_val = float(row_dict['ANNUAL\\xa0'])\n",
    "    cities = int(row_dict['# CITIES\\xa0'])\n",
    "    return (row_dict['Alberta'],(tmp_val*cities,cities))\n",
    "\n",
    "def calculate_total_temp_cities(row1,row2):\n",
    "    return(row1[0]+row2[0],row1[1]+row2[1] )\n",
    "\n",
    "def temp_calc(row):\n",
    "    return(row[0],row[1][0]/row[1][1])\n",
    "    \n"
   ]
  },
  {
   "cell_type": "code",
   "execution_count": 271,
   "metadata": {},
   "outputs": [],
   "source": [
    "sc = SparkContext.getOrCreate()\n",
    "sqlContext = SQLContext(sc)\n",
    "df = sqlContext.read.format('csv').options(header=True).load('data.csv')\n",
    "data_df = data_df.dropna()"
   ]
  },
  {
   "cell_type": "code",
   "execution_count": 336,
   "metadata": {},
   "outputs": [],
   "source": [
    "avg_tmp = data_df.filter(data_df['Alberta'] == 'Average Temperature (F)').rdd.map(lambda row: row.asDict())\n",
    "avg_high = data_df.filter(data_df['Alberta'] == 'Average High Temperature (F)').rdd.map(lambda row: row.asDict())\n",
    "avg_low = data_df.filter(data_df['Alberta'] == 'Average Low Temperature (F)').rdd.map(lambda row: row.asDict())\n",
    "avg_pcp = data_df.filter(data_df['Alberta'] == 'Average Precipitation (in)').rdd.map(lambda row: row.asDict())\n"
   ]
  },
  {
   "cell_type": "code",
   "execution_count": 338,
   "metadata": {},
   "outputs": [
    {
     "data": {
      "text/plain": [
       "[('Average Temperature (F)', 37.946348928727595)]"
      ]
     },
     "execution_count": 338,
     "metadata": {},
     "output_type": "execute_result"
    }
   ],
   "source": [
    "avg_tmp = avg_tmp.map(calculate_total)\n",
    "avg_tmp =avg_tmp.reduceByKey(calculate_total_temp_cities)\n",
    "avg_tmp = avg_tmp.map(temp_calc)\n",
    "avg_tmp.collect()"
   ]
  },
  {
   "cell_type": "code",
   "execution_count": 339,
   "metadata": {},
   "outputs": [
    {
     "data": {
      "text/plain": [
       "[('Average High Temperature (F)', 47.190852575488464)]"
      ]
     },
     "execution_count": 339,
     "metadata": {},
     "output_type": "execute_result"
    }
   ],
   "source": [
    "avg_high = avg_high.map(calculate_total)\n",
    "avg_high =avg_high.reduceByKey(calculate_total_temp_cities)\n",
    "avg_high = avg_high.map(temp_calc)\n",
    "avg_high.collect()"
   ]
  },
  {
   "cell_type": "code",
   "execution_count": 340,
   "metadata": {},
   "outputs": [
    {
     "data": {
      "text/plain": [
       "[('Average Low Temperature (F)', 28.799822301199466)]"
      ]
     },
     "execution_count": 340,
     "metadata": {},
     "output_type": "execute_result"
    }
   ],
   "source": [
    "avg_low = avg_low.map(calculate_total)\n",
    "avg_low =avg_low.reduceByKey(calculate_total_temp_cities)\n",
    "avg_low = avg_low.map(temp_calc)\n",
    "avg_low.collect()"
   ]
  },
  {
   "cell_type": "code",
   "execution_count": 341,
   "metadata": {},
   "outputs": [
    {
     "data": {
      "text/plain": [
       "[('Average Precipitation (in)', 34.4720404040404)]"
      ]
     },
     "execution_count": 341,
     "metadata": {},
     "output_type": "execute_result"
    }
   ],
   "source": [
    "avg_pcp = avg_pcp.map(calculate_total)\n",
    "avg_pcp =avg_pcp.reduceByKey(calculate_total_temp_cities)\n",
    "avg_pcp = avg_pcp.map(temp_calc)\n",
    "avg_pcp.collect()"
   ]
  },
  {
   "cell_type": "code",
   "execution_count": null,
   "metadata": {},
   "outputs": [],
   "source": []
  },
  {
   "cell_type": "code",
   "execution_count": 292,
   "metadata": {},
   "outputs": [
    {
     "data": {
      "text/plain": [
       "[{'Alberta': 'Average Temperature (F)',\n",
       "  'ANNUAL\\xa0': '36.8',\n",
       "  'JAN\\xa0': '10.6',\n",
       "  'FEB\\xa0': '15.8',\n",
       "  'MAR\\xa0': '25.3',\n",
       "  'APR\\xa0': '39.1',\n",
       "  'MAY\\xa0': '49.5',\n",
       "  'JUN\\xa0': '56.7',\n",
       "  'JUL\\xa0': '60.9',\n",
       "  'AUG\\xa0': '59.2',\n",
       "  'SEP\\xa0': '50',\n",
       "  'OCT\\xa0': '39.2',\n",
       "  'NOV\\xa0': '23.3',\n",
       "  'DEC\\xa0': '13.8',\n",
       "  'YEARS\\xa0': '24',\n",
       "  '# CITIES\\xa0': 245},\n",
       " {'Alberta': 'Average Temperature (F)',\n",
       "  'ANNUAL\\xa0': '43.7',\n",
       "  'JAN\\xa0': '27.2',\n",
       "  'FEB\\xa0': '30.5',\n",
       "  'MAR\\xa0': '36.7',\n",
       "  'APR\\xa0': '43.8',\n",
       "  'MAY\\xa0': '50.9',\n",
       "  'JUN\\xa0': '56.8',\n",
       "  'JUL\\xa0': '61.2',\n",
       "  'AUG\\xa0': '60.8',\n",
       "  'SEP\\xa0': '54',\n",
       "  'OCT\\xa0': '44.3',\n",
       "  'NOV\\xa0': '34',\n",
       "  'DEC\\xa0': '27.5',\n",
       "  'YEARS\\xa0': '24',\n",
       "  '# CITIES\\xa0': 471},\n",
       " {'Alberta': 'Average Temperature (F)',\n",
       "  'ANNUAL\\xa0': '34.6',\n",
       "  'JAN\\xa0': '-0.3',\n",
       "  'FEB\\xa0': '5.9',\n",
       "  'MAR\\xa0': '18.5',\n",
       "  'APR\\xa0': '36.2',\n",
       "  'MAY\\xa0': '49.7',\n",
       "  'JUN\\xa0': '59.6',\n",
       "  'JUL\\xa0': '64.7',\n",
       "  'AUG\\xa0': '62.9',\n",
       "  'SEP\\xa0': '52.1',\n",
       "  'OCT\\xa0': '39.1',\n",
       "  'NOV\\xa0': '20.7',\n",
       "  'DEC\\xa0': '5.6',\n",
       "  'YEARS\\xa0': '25',\n",
       "  '# CITIES\\xa0': 144},\n",
       " {'Alberta': 'Average Temperature (F)',\n",
       "  'ANNUAL\\xa0': '40.5',\n",
       "  'JAN\\xa0': '14',\n",
       "  'FEB\\xa0': '16.5',\n",
       "  'MAR\\xa0': '26.2',\n",
       "  'APR\\xa0': '37.8',\n",
       "  'MAY\\xa0': '49.8',\n",
       "  'JUN\\xa0': '59.2',\n",
       "  'JUL\\xa0': '64.9',\n",
       "  'AUG\\xa0': '63.7',\n",
       "  'SEP\\xa0': '55.4',\n",
       "  'OCT\\xa0': '44.6',\n",
       "  'NOV\\xa0': '33.7',\n",
       "  'DEC\\xa0': '21',\n",
       "  'YEARS\\xa0': '24',\n",
       "  '# CITIES\\xa0': 83},\n",
       " {'Alberta': 'Average Temperature (F)',\n",
       "  'ANNUAL\\xa0': '37.9',\n",
       "  'JAN\\xa0': '18',\n",
       "  'FEB\\xa0': '17.4',\n",
       "  'MAR\\xa0': '24',\n",
       "  'APR\\xa0': '33.4',\n",
       "  'MAY\\xa0': '42.2',\n",
       "  'JUN\\xa0': '50.2',\n",
       "  'JUL\\xa0': '58.1',\n",
       "  'AUG\\xa0': '58.9',\n",
       "  'SEP\\xa0': '52.1',\n",
       "  'OCT\\xa0': '42.9',\n",
       "  'NOV\\xa0': '33.9',\n",
       "  'DEC\\xa0': '24.5',\n",
       "  'YEARS\\xa0': '26',\n",
       "  '# CITIES\\xa0': 132},\n",
       " {'Alberta': 'Average Temperature (F)',\n",
       "  'ANNUAL\\xa0': '18.2',\n",
       "  'JAN\\xa0': '-14.9',\n",
       "  'FEB\\xa0': '-12.5',\n",
       "  'MAR\\xa0': '-5',\n",
       "  'APR\\xa0': '13.4',\n",
       "  'MAY\\xa0': '31.8',\n",
       "  'JUN\\xa0': '47.4',\n",
       "  'JUL\\xa0': '53.5',\n",
       "  'AUG\\xa0': '49.8',\n",
       "  'SEP\\xa0': '39.1',\n",
       "  'OCT\\xa0': '23',\n",
       "  'NOV\\xa0': '1.8',\n",
       "  'DEC\\xa0': '-8.7',\n",
       "  'YEARS\\xa0': '26',\n",
       "  '# CITIES\\xa0': 42},\n",
       " {'Alberta': 'Average Temperature (F)',\n",
       "  'ANNUAL\\xa0': '43.3',\n",
       "  'JAN\\xa0': '22.6',\n",
       "  'FEB\\xa0': '22.9',\n",
       "  'MAR\\xa0': '29.6',\n",
       "  'APR\\xa0': '38.8',\n",
       "  'MAY\\xa0': '48.5',\n",
       "  'JUN\\xa0': '57.3',\n",
       "  'JUL\\xa0': '64',\n",
       "  'AUG\\xa0': '64.1',\n",
       "  'SEP\\xa0': '57.3',\n",
       "  'OCT\\xa0': '47.8',\n",
       "  'NOV\\xa0': '38.9',\n",
       "  'DEC\\xa0': '28.9',\n",
       "  'YEARS\\xa0': '29',\n",
       "  '# CITIES\\xa0': 85},\n",
       " {'Alberta': 'Average Temperature (F)',\n",
       "  'ANNUAL\\xa0': '9.5',\n",
       "  'JAN\\xa0': '-20.5',\n",
       "  'FEB\\xa0': '-21.2',\n",
       "  'MAR\\xa0': '-15.4',\n",
       "  'APR\\xa0': '-0.7',\n",
       "  'MAY\\xa0': '18',\n",
       "  'JUN\\xa0': '34.6',\n",
       "  'JUL\\xa0': '43.9',\n",
       "  'AUG\\xa0': '41',\n",
       "  'SEP\\xa0': '30.9',\n",
       "  'OCT\\xa0': '16.3',\n",
       "  'NOV\\xa0': '-1.5',\n",
       "  'DEC\\xa0': '-12.9',\n",
       "  'YEARS\\xa0': '24',\n",
       "  '# CITIES\\xa0': 63},\n",
       " {'Alberta': 'Average Temperature (F)',\n",
       "  'ANNUAL\\xa0': '41.4',\n",
       "  'JAN\\xa0': '14',\n",
       "  'FEB\\xa0': '16.8',\n",
       "  'MAR\\xa0': '26.4',\n",
       "  'APR\\xa0': '40.3',\n",
       "  'MAY\\xa0': '52.3',\n",
       "  'JUN\\xa0': '61.7',\n",
       "  'JUL\\xa0': '66.8',\n",
       "  'AUG\\xa0': '64.9',\n",
       "  'SEP\\xa0': '56.7',\n",
       "  'OCT\\xa0': '45.2',\n",
       "  'NOV\\xa0': '33.1',\n",
       "  'DEC\\xa0': '20.7',\n",
       "  'YEARS\\xa0': '27',\n",
       "  '# CITIES\\xa0': 337},\n",
       " {'Alberta': 'Average Temperature (F)',\n",
       "  'ANNUAL\\xa0': '42.3',\n",
       "  'JAN\\xa0': '18.4',\n",
       "  'FEB\\xa0': '19.1',\n",
       "  'MAR\\xa0': '27',\n",
       "  'APR\\xa0': '37.2',\n",
       "  'MAY\\xa0': '48.4',\n",
       "  'JUN\\xa0': '58.2',\n",
       "  'JUL\\xa0': '65.6',\n",
       "  'AUG\\xa0': '65.3',\n",
       "  'SEP\\xa0': '57.7',\n",
       "  'OCT\\xa0': '47.3',\n",
       "  'NOV\\xa0': '37.3',\n",
       "  'DEC\\xa0': '26.3',\n",
       "  'YEARS\\xa0': '21',\n",
       "  '# CITIES\\xa0': 19},\n",
       " {'Alberta': 'Average Temperature (F)',\n",
       "  'ANNUAL\\xa0': '37.5',\n",
       "  'JAN\\xa0': '7.5',\n",
       "  'FEB\\xa0': '11',\n",
       "  'MAR\\xa0': '21.8',\n",
       "  'APR\\xa0': '36.5',\n",
       "  'MAY\\xa0': '49.2',\n",
       "  'JUN\\xa0': '58.7',\n",
       "  'JUL\\xa0': '63.8',\n",
       "  'AUG\\xa0': '61.9',\n",
       "  'SEP\\xa0': '53.4',\n",
       "  'OCT\\xa0': '42',\n",
       "  'NOV\\xa0': '30',\n",
       "  'DEC\\xa0': '15.2',\n",
       "  'YEARS\\xa0': '27',\n",
       "  '# CITIES\\xa0': 411},\n",
       " {'Alberta': 'Average Temperature (F)',\n",
       "  'ANNUAL\\xa0': '36',\n",
       "  'JAN\\xa0': '4.4',\n",
       "  'FEB\\xa0': '9.9',\n",
       "  'MAR\\xa0': '21.9',\n",
       "  'APR\\xa0': '38.5',\n",
       "  'MAY\\xa0': '50.9',\n",
       "  'JUN\\xa0': '59.5',\n",
       "  'JUL\\xa0': '64.3',\n",
       "  'AUG\\xa0': '62.7',\n",
       "  'SEP\\xa0': '51.8',\n",
       "  'OCT\\xa0': '39.1',\n",
       "  'NOV\\xa0': '21.5',\n",
       "  'DEC\\xa0': '8.6',\n",
       "  'YEARS\\xa0': '27',\n",
       "  '# CITIES\\xa0': 214},\n",
       " {'Alberta': 'Average Temperature (F)',\n",
       "  'ANNUAL\\xa0': '22.5',\n",
       "  'JAN\\xa0': '-7.6',\n",
       "  'FEB\\xa0': '-0.2',\n",
       "  'MAR\\xa0': '10.7',\n",
       "  'APR\\xa0': '27.3',\n",
       "  'MAY\\xa0': '36.9',\n",
       "  'JUN\\xa0': '46.7',\n",
       "  'JUL\\xa0': '50.5',\n",
       "  'AUG\\xa0': '46.6',\n",
       "  'SEP\\xa0': '37.2',\n",
       "  'OCT\\xa0': '23.5',\n",
       "  'NOV\\xa0': '4.6',\n",
       "  'DEC\\xa0': '-3.1',\n",
       "  'YEARS\\xa0': '23',\n",
       "  '# CITIES\\xa0': 41}]"
      ]
     },
     "execution_count": 292,
     "metadata": {},
     "output_type": "execute_result"
    }
   ],
   "source": []
  },
  {
   "cell_type": "code",
   "execution_count": null,
   "metadata": {},
   "outputs": [],
   "source": []
  }
 ],
 "metadata": {
  "kernelspec": {
   "display_name": "Python 3",
   "language": "python",
   "name": "python3"
  },
  "language_info": {
   "codemirror_mode": {
    "name": "ipython",
    "version": 3
   },
   "file_extension": ".py",
   "mimetype": "text/x-python",
   "name": "python",
   "nbconvert_exporter": "python",
   "pygments_lexer": "ipython3",
   "version": "3.7.6"
  }
 },
 "nbformat": 4,
 "nbformat_minor": 4
}
