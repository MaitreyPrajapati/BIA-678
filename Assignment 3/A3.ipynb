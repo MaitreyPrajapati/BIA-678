{
 "cells": [
  {
   "cell_type": "code",
   "execution_count": 224,
   "metadata": {},
   "outputs": [],
   "source": [
    "from pyspark import SparkContext\n",
    "from pyspark.sql import SQLContext\n",
    "from pyspark.sql.types import IntegerType,FloatType"
   ]
  },
  {
   "cell_type": "code",
   "execution_count": 337,
   "metadata": {},
   "outputs": [],
   "source": [
    "def calculate_total(row_dict):\n",
    "    tmp_val = float(row_dict['ANNUAL\\xa0'])\n",
    "    cities = int(row_dict['# CITIES\\xa0'])\n",
    "    return (row_dict['Alberta'],(tmp_val*cities,cities))\n",
    "\n",
    "def calculate_total_temp_cities(row1,row2):\n",
    "    return(row1[0]+row2[0],row1[1]+row2[1] )\n",
    "\n",
    "def temp_calc(row):\n",
    "    return(row[0],row[1][0]/row[1][1])\n",
    "    \n"
   ]
  },
  {
   "cell_type": "code",
   "execution_count": 271,
   "metadata": {},
   "outputs": [],
   "source": [
    "sc = SparkContext.getOrCreate()\n",
    "sqlContext = SQLContext(sc)\n",
    "df = sqlContext.read.format('csv').options(header=True).load('data.csv')\n",
    "data_df = data_df.dropna()"
   ]
  },
  {
   "cell_type": "code",
   "execution_count": 336,
   "metadata": {},
   "outputs": [],
   "source": [
    "avg_tmp = data_df.filter(data_df['Alberta'] == 'Average Temperature (F)').rdd.map(lambda row: row.asDict())\n",
    "avg_high = data_df.filter(data_df['Alberta'] == 'Average High Temperature (F)').rdd.map(lambda row: row.asDict())\n",
    "avg_low = data_df.filter(data_df['Alberta'] == 'Average Low Temperature (F)').rdd.map(lambda row: row.asDict())\n",
    "avg_pcp = data_df.filter(data_df['Alberta'] == 'Average Precipitation (in)').rdd.map(lambda row: row.asDict())\n"
   ]
  },
  {
   "cell_type": "code",
   "execution_count": 338,
   "metadata": {},
   "outputs": [
    {
     "data": {
      "text/plain": [
       "[('Average Temperature (F)', 37.946348928727595)]"
      ]
     },
     "execution_count": 338,
     "metadata": {},
     "output_type": "execute_result"
    }
   ],
   "source": [
    "avg_tmp = avg_tmp.map(calculate_total)\n",
    "avg_tmp =avg_tmp.reduceByKey(calculate_total_temp_cities)\n",
    "avg_tmp = avg_tmp.map(temp_calc)\n",
    "avg_tmp.collect()"
   ]
  },
  {
   "cell_type": "code",
   "execution_count": 339,
   "metadata": {},
   "outputs": [
    {
     "data": {
      "text/plain": [
       "[('Average High Temperature (F)', 47.190852575488464)]"
      ]
     },
     "execution_count": 339,
     "metadata": {},
     "output_type": "execute_result"
    }
   ],
   "source": [
    "avg_high = avg_high.map(calculate_total)\n",
    "avg_high =avg_high.reduceByKey(calculate_total_temp_cities)\n",
    "avg_high = avg_high.map(temp_calc)\n",
    "avg_high.collect()"
   ]
  },
  {
   "cell_type": "code",
   "execution_count": 340,
   "metadata": {},
   "outputs": [
    {
     "data": {
      "text/plain": [
       "[('Average Low Temperature (F)', 28.799822301199466)]"
      ]
     },
     "execution_count": 340,
     "metadata": {},
     "output_type": "execute_result"
    }
   ],
   "source": [
    "avg_low = avg_low.map(calculate_total)\n",
    "avg_low =avg_low.reduceByKey(calculate_total_temp_cities)\n",
    "avg_low = avg_low.map(temp_calc)\n",
    "avg_low.collect()"
   ]
  },
  {
   "cell_type": "code",
   "execution_count": 341,
   "metadata": {},
   "outputs": [
    {
     "data": {
      "text/plain": [
       "[('Average Precipitation (in)', 34.4720404040404)]"
      ]
     },
     "execution_count": 341,
     "metadata": {},
     "output_type": "execute_result"
    }
   ],
   "source": [
    "avg_pcp = avg_pcp.map(calculate_total)\n",
    "avg_pcp =avg_pcp.reduceByKey(calculate_total_temp_cities)\n",
    "avg_pcp = avg_pcp.map(temp_calc)\n",
    "avg_pcp.collect()"
   ]
  },
  {
   "cell_type": "code",
   "execution_count": null,
   "metadata": {},
   "outputs": [],
   "source": []
  },
  {
   "cell_type": "code",
   "execution_count": null,
   "metadata": {},
   "outputs": [],
   "source": []
  }
 ],
 "metadata": {
  "kernelspec": {
   "display_name": "Python 3",
   "language": "python",
   "name": "python3"
  },
  "language_info": {
   "codemirror_mode": {
    "name": "ipython",
    "version": 3
   },
   "file_extension": ".py",
   "mimetype": "text/x-python",
   "name": "python",
   "nbconvert_exporter": "python",
   "pygments_lexer": "ipython3",
   "version": "3.7.6"
  }
 },
 "nbformat": 4,
 "nbformat_minor": 4
}
